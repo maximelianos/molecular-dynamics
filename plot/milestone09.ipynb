{
 "cells": [
  {
   "cell_type": "code",
   "execution_count": null,
   "id": "b8a7ca29-d833-4eb5-9137-a5dee34ef6ea",
   "metadata": {},
   "outputs": [],
   "source": [
    "import math\n",
    "import numpy as np\n",
    "import matplotlib\n",
    "import matplotlib.pyplot as plt\n",
    "\n",
    "#отображение графиков в ноутбуке\n",
    "%matplotlib inline \n",
    "\n",
    "#для четкой прорисовки графиков\n",
    "#%config InlineBackend.figure_format = 'svg'\n",
    "\n",
    "def read_energy(file: str) -> tuple[np.ndarray, np.ndarray]:\n",
    "    x_vals = []\n",
    "    y_vals = []\n",
    "    with open(file) as f:\n",
    "        for s in f.readlines():\n",
    "            time, energy = map(float, s.split())\n",
    "            x_vals.append(time)\n",
    "            y_vals.append(energy)\n",
    "    return np.array(x_vals), np.array(y_vals)\n",
    "\n",
    "def sliding_average(arr: np.ndarray, window):\n",
    "    return np.convolve(arr, [1] * window, 'same') / window\n",
    "\n",
    "a = np.array([3, 0, 3])\n",
    "sliding_average(a, 3)"
   ]
  },
  {
   "cell_type": "markdown",
   "id": "0612ab5b-1d57-4e14-9ec7-370cc3952945",
   "metadata": {},
   "source": [
    "# Stress vs strain"
   ]
  },
  {
   "cell_type": "code",
   "execution_count": null,
   "id": "f685e6c4-f8b8-43c7-9276-b1efb5e1d6c5",
   "metadata": {},
   "outputs": [],
   "source": [
    "base_path = \"../buildDir/milestones/09/\"\n",
    "x, stress1 = read_energy(base_path + \"stress-1.txt\")\n",
    "x, stress2 = read_energy(base_path + \"stress-2.txt\")\n",
    "\n",
    "x = np.linspace(0, 100, len(stress1))\n",
    "fig, axs = plt.subplots(1, 1, layout='constrained', figsize=(8,4))\n",
    "\n",
    "axs.set_title('stress vs strain',fontsize=15)\n",
    "axs.plot(x, stress1, linestyle='-', color='tab:red', label='t=200 s=15')\n",
    "axs.plot(x, stress2, linestyle='-', color='tab:green', label='t=300 s=15')\n",
    "#axs.plot(x, stress4, linestyle='-', color='tab:green', label='t=350 s=15')\n",
    "\n",
    "axs.grid(True)\n",
    "axs.set_xlabel('time, ps',  fontsize=10)\n",
    "axs.set_ylabel('stress, Newtons',  fontsize=10)\n",
    "axs.legend(fontsize=10)\n",
    "\n",
    "fig.savefig(\"fig.png\")"
   ]
  },
  {
   "cell_type": "code",
   "execution_count": null,
   "id": "739a8580-8232-4f92-9d53-9f27bc38afc8",
   "metadata": {},
   "outputs": [],
   "source": [
    "#base_path = \"../buildDir/milestones/09/\"\n",
    "base_path = \"data-milestone-09/\"\n",
    "x, stress1 = read_energy(base_path + \"stress-1.txt\")\n",
    "x, stress2 = read_energy(base_path + \"stress-2.txt\")\n",
    "x, stress3 = read_energy(base_path + \"stress-3.txt\")\n",
    "x, stress4 = read_energy(base_path + \"stress-4.txt\")\n",
    "x, stress5 = read_energy(base_path + \"stress-5.txt\")\n",
    "\n",
    "x = np.linspace(0, 100, len(stress1))\n",
    "fig, axs = plt.subplots(1, 1, layout='constrained', figsize=(8,4))\n",
    "\n",
    "axs.set_title('Strain=15, different temperature',fontsize=15)\n",
    "axs.plot(x, stress5, linestyle=':', color='tab:red', label='t=200 s=15')\n",
    "axs.plot(x, stress2, linestyle='-.', color='tab:red', label='t=300 s=15')\n",
    "axs.plot(x, stress4, linestyle='-', color='tab:green', label='t=350 s=15')\n",
    "\n",
    "axs.grid(True)\n",
    "axs.set_xlabel('time, ps',  fontsize=10)\n",
    "axs.set_ylabel('stress, Newtons',  fontsize=10)\n",
    "axs.legend(fontsize=10)\n",
    "\n",
    "fig.savefig(\"fig.pdf\")"
   ]
  },
  {
   "cell_type": "code",
   "execution_count": null,
   "id": "969e4991-4836-4cc1-8fd0-3f85f90199e7",
   "metadata": {},
   "outputs": [],
   "source": [
    "base_path = \"data-milestone-09/\"\n",
    "x, stress1 = read_energy(base_path + \"stress-1.txt\")\n",
    "x, stress3 = read_energy(base_path + \"stress-3.txt\")\n",
    "\n",
    "print(type(stress1))\n",
    "\n",
    "fig, axs = plt.subplots(1, 1, layout='constrained', figsize=(8,4))\n",
    "\n",
    "axs.set_title('t=300, different strain',fontsize=15)\n",
    "axs.plot(x, stress1, linestyle='-.', color='tab:green', label='t=300 s=10 1')\n",
    "axs.plot(x, stress3, linestyle='-', color='tab:red', label='t=300 s=15 3')\n",
    "\n",
    "axs.grid(True)\n",
    "axs.set_xlabel('time, ps',  fontsize=10)\n",
    "axs.set_ylabel('stress, Newtons',  fontsize=10)\n",
    "axs.legend(fontsize=10)\n",
    "\n",
    "fig.savefig(\"fig.pdf\")"
   ]
  },
  {
   "cell_type": "code",
   "execution_count": null,
   "id": "bfb57234-23ad-469d-8bfe-af5ef99e1b93",
   "metadata": {},
   "outputs": [],
   "source": [
    "base_path = \"data-milestone-09/\"\n",
    "x, stress10 = read_energy(base_path + \"stress-10.txt\")\n",
    "x, stress11 = read_energy(base_path + \"stress-11.txt\")\n",
    "x, stress12 = read_energy(base_path + \"stress-12.txt\")\n",
    "x, stress13 = read_energy(base_path + \"stress-13.txt\")\n",
    "x, stress14 = read_energy(base_path + \"stress-14.txt\")\n",
    "x, stress15 = read_energy(base_path + \"stress-15.txt\")\n",
    "\n",
    "x = np.linspace(0, 100, len(stress10))\n",
    "fig, axs = plt.subplots(1, 1, layout='constrained', figsize=(8,4))\n",
    "\n",
    "axs.set_title('Large whisker, t=300',fontsize=15)\n",
    "axs.plot(x, stress10, linestyle=':', color='tab:green', label='s=10')\n",
    "axs.plot(x, stress11, linestyle='-.', color='tab:green', label='s=11')\n",
    "axs.plot(x, stress12, linestyle='-.', color='tab:red', label='s=12')\n",
    "axs.plot(x, stress13, linestyle='-', color='tab:red', label='s=13')\n",
    "axs.plot(x, stress14, linestyle='-.', color='tab:blue', label='s=14')\n",
    "axs.plot(x, stress15, linestyle='-', color='tab:blue', label='s=15')\n",
    "\n",
    "axs.grid(True)\n",
    "axs.set_xlabel('time, ps',  fontsize=10)\n",
    "axs.set_ylabel('stress, Newtons',  fontsize=10)\n",
    "axs.legend(fontsize=10)\n",
    "\n",
    "fig.savefig(\"fig.pdf\")"
   ]
  },
  {
   "cell_type": "code",
   "execution_count": null,
   "id": "69a6a9a1-fdf7-4f88-b030-a1ecb96517c7",
   "metadata": {},
   "outputs": [],
   "source": []
  }
 ],
 "metadata": {
  "kernelspec": {
   "display_name": "Python 3 (ipykernel)",
   "language": "python",
   "name": "python3"
  },
  "language_info": {
   "codemirror_mode": {
    "name": "ipython",
    "version": 3
   },
   "file_extension": ".py",
   "mimetype": "text/x-python",
   "name": "python",
   "nbconvert_exporter": "python",
   "pygments_lexer": "ipython3",
   "version": "3.11.9"
  }
 },
 "nbformat": 4,
 "nbformat_minor": 5
}
