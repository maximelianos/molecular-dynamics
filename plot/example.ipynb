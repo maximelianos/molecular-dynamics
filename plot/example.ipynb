{
 "cells": [
  {
   "cell_type": "code",
   "execution_count": null,
   "id": "35cd0451-38a2-448e-8938-bb787febb120",
   "metadata": {},
   "outputs": [],
   "source": [
    "import matplotlib\n",
    "import matplotlib.pyplot as plt\n",
    "\n",
    "#отображение графиков в ноутбуке\n",
    "%matplotlib inline \n",
    "\n",
    "#для четкой прорисовки графиков\n",
    "#%config InlineBackend.figure_format = 'svg'\n",
    "\n",
    "import math\n",
    "    \n",
    "x_vals = [x * 0.1  for x in range(-100, 100)]\n",
    "y_vals_1 = [math.sin(x) for x in x_vals]\n",
    "y_vals_2 = [2 * math.sin(2 * x) for x in x_vals]\n",
    "\n",
    "# задаем размеры\n",
    "plt.figure(figsize=(10,4))\n",
    "\n",
    "# заголовок \n",
    "plt.title('Мой первый график',fontsize=10)\n",
    "\n",
    "# рисуем графики\n",
    "plt.plot(x_vals, y_vals_1, linestyle='--', color='r', label='sin(x)')\n",
    "plt.plot(x_vals, y_vals_2,  marker='.', label='2sin(2x)')\n",
    "\n",
    "# linestyle: '--' - dashed line style, '-.'- dash-dot line style, ...\n",
    "# color: r, g, b, ...\n",
    "# marker: '.', 'o', '+', ...\n",
    "\n",
    "#сетка графика\n",
    "plt.grid(True) \n",
    "\n",
    "# разметка осей\n",
    "plt.xticks([math.pi * x for x in range(-3, 4)], [\"-3$\\pi$\", \"-2$\\pi$\", \"-$\\pi$\", \"0\", \"$\\pi$\", \"2$\\pi$\", \"3$\\pi$\"])\n",
    "plt.yticks(range(-2, 3))\n",
    "\n",
    "# подписи осей\n",
    "plt.ylabel('y',  fontsize=10)\n",
    "plt.xlabel('x',  fontsize=10)\n",
    "\n",
    "# легенда\n",
    "plt.legend(fontsize=10)\n",
    "\n",
    "plt.show()\n",
    "\n",
    "# сохранить\n",
    "#plt.savefig('fig.pdf')"
   ]
  },
  {
   "cell_type": "code",
   "execution_count": null,
   "id": "31e4a9f6-15c0-420a-84f8-72402f5ab3a8",
   "metadata": {},
   "outputs": [],
   "source": []
  }
 ],
 "metadata": {
  "kernelspec": {
   "display_name": "Python 3 (ipykernel)",
   "language": "python",
   "name": "python3"
  },
  "language_info": {
   "codemirror_mode": {
    "name": "ipython",
    "version": 3
   },
   "file_extension": ".py",
   "mimetype": "text/x-python",
   "name": "python",
   "nbconvert_exporter": "python",
   "pygments_lexer": "ipython3",
   "version": "3.11.9"
  }
 },
 "nbformat": 4,
 "nbformat_minor": 5
}
