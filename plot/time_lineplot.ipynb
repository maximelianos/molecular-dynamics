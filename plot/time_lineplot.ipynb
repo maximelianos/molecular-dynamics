{
 "cells": [
  {
   "cell_type": "code",
   "execution_count": null,
   "id": "35cd0451-38a2-448e-8938-bb787febb120",
   "metadata": {},
   "outputs": [],
   "source": [
    "import math\n",
    "import matplotlib\n",
    "import matplotlib.pyplot as plt\n",
    "\n",
    "#отображение графиков в ноутбуке\n",
    "%matplotlib inline \n",
    "\n",
    "#для четкой прорисовки графиков\n",
    "#%config InlineBackend.figure_format = 'svg'\n"
   ]
  },
  {
   "cell_type": "code",
   "execution_count": null,
   "id": "cb1148ce-8fa2-46c7-9d0e-4f7b347c4eb9",
   "metadata": {},
   "outputs": [],
   "source": [
    "x = list(range(3, 10))\n",
    "x = [a ** 3 for a in x]\n",
    "y_direct = [0.9, 3.5, 12, 36, 91, 201, 410]\n",
    "\"\"\"\n",
    "4: 3.5\n",
    "5: 12\n",
    "6: 36\n",
    "7: 91\n",
    "8: 201\n",
    "9: 410\n",
    "\"\"\"\n",
    "y_neighbor = [0.8, 3.3, 8, 15, 27, 44, 64]\n",
    "\"\"\"\n",
    "4: 3.3\n",
    "5: 8\n",
    "6: 15\n",
    "7: 27\n",
    "8: 44\n",
    "9: 64\n",
    "\"\"\"\n",
    "\n",
    "fig, axs = plt.subplots(1, 1, layout='constrained', figsize=(6,4))\n",
    "\n",
    "axs.set_title('Direct vs neigbor list computation' ,fontsize=15)\n",
    "axs.plot(x, y_direct, linestyle='-', color='g', label='direct')\n",
    "axs.plot(x, y_neighbor, linestyle='-', color='r', label='neighbor')\n",
    "axs.grid(True)\n",
    "axs.set_ylabel('Run time, s', fontsize=10)\n",
    "axs.set_xlabel('n atoms',  fontsize=10)\n",
    "axs.legend(fontsize=10)\n",
    "\n",
    "fig.savefig(\"fig.pdf\")"
   ]
  },
  {
   "cell_type": "code",
   "execution_count": null,
   "id": "7184f112-60b2-46d8-a6dd-93942c718404",
   "metadata": {},
   "outputs": [],
   "source": []
  }
 ],
 "metadata": {
  "kernelspec": {
   "display_name": "Python 3 (ipykernel)",
   "language": "python",
   "name": "python3"
  },
  "language_info": {
   "codemirror_mode": {
    "name": "ipython",
    "version": 3
   },
   "file_extension": ".py",
   "mimetype": "text/x-python",
   "name": "python",
   "nbconvert_exporter": "python",
   "pygments_lexer": "ipython3",
   "version": "3.11.9"
  }
 },
 "nbformat": 4,
 "nbformat_minor": 5
}
