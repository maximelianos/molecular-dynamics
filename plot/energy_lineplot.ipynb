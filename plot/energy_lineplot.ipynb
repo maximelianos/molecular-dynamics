{
 "cells": [
  {
   "cell_type": "code",
   "execution_count": null,
   "id": "35cd0451-38a2-448e-8938-bb787febb120",
   "metadata": {},
   "outputs": [],
   "source": [
    "import numpy as np\n",
    "import math\n",
    "import matplotlib\n",
    "import matplotlib.pyplot as plt\n",
    "\n",
    "#отображение графиков в ноутбуке\n",
    "%matplotlib inline \n",
    "\n",
    "#для четкой прорисовки графиков\n",
    "#%config InlineBackend.figure_format = 'svg'\n",
    "\n",
    "def read_energy(file) -> tuple[list, list]:\n",
    "    x_vals = []\n",
    "    y_vals = []\n",
    "    with open(file) as f:\n",
    "        for s in f.readlines():\n",
    "            time, energy = map(float, s.split())\n",
    "            x_vals.append(time)\n",
    "            y_vals.append(energy)\n",
    "    return x_vals, np.array(y_vals)"
   ]
  },
  {
   "cell_type": "code",
   "execution_count": null,
   "id": "31e4a9f6-15c0-420a-84f8-72402f5ab3a8",
   "metadata": {},
   "outputs": [],
   "source": [
    "#base = \"../buildDir/milestones/04/\"\n",
    "base = \"data-milestone-04/\"\n",
    "x_vals, e_001 = read_energy(base + \"total_energy_001.txt\")\n",
    "x_vals, e_005 = read_energy(base + \"total_energy_005.txt\")\n",
    "x_vals, e_01 = read_energy(base + \"total_energy_01.txt\")\n",
    "\n",
    "e_001 -= e_001[0]\n",
    "e_005 -= e_005[0]\n",
    "e_01 -= e_01[0]\n",
    "\n",
    "# задаем размеры\n",
    "plt.figure(figsize=(6,3))\n",
    "\n",
    "# заголовок \n",
    "plt.title('Energy drift with different timesteps',fontsize=10)\n",
    "\n",
    "# рисуем графики\n",
    "plt.plot(x_vals, e_001, linestyle='--', color='r', label='0.001 [t]')\n",
    "plt.plot(x_vals, e_005, linestyle='-.', color='r', label='0.005 [t]')\n",
    "plt.plot(x_vals, e_01, linestyle=':', color='r', label='0.01 [t]')\n",
    "\n",
    "# linestyle: '--' - dashed line style, '-.'- dash-dot line style, ...\n",
    "# color: r, g, b, ...\n",
    "# marker: '.', 'o', '+', ...\n",
    "\n",
    "#сетка графика\n",
    "plt.grid(True) \n",
    "\n",
    "# разметка осей\n",
    "# plt.xticks([math.pi * x for x in range(-3, 4)], [\"-3$\\pi$\", \"-2$\\pi$\", \"-$\\pi$\", \"0\", \"$\\pi$\", \"2$\\pi$\", \"3$\\pi$\"])\n",
    "# plt.yticks(range(-2, 3))\n",
    "\n",
    "# подписи осей\n",
    "plt.ylabel('Energy, eV',  fontsize=10)\n",
    "plt.xlabel('Time, LJ units [t]',  fontsize=10)\n",
    "\n",
    "# легенда\n",
    "plt.legend(fontsize=10)\n",
    "\n",
    "#plt.show()\n",
    "\n",
    "# сохранить\n",
    "plt.tight_layout()\n",
    "plt.savefig('fig.pdf')"
   ]
  },
  {
   "cell_type": "code",
   "execution_count": null,
   "id": "91053406-8f31-471b-8018-8c77b71de80c",
   "metadata": {},
   "outputs": [],
   "source": []
  }
 ],
 "metadata": {
  "kernelspec": {
   "display_name": "Python 3 (ipykernel)",
   "language": "python",
   "name": "python3"
  },
  "language_info": {
   "codemirror_mode": {
    "name": "ipython",
    "version": 3
   },
   "file_extension": ".py",
   "mimetype": "text/x-python",
   "name": "python",
   "nbconvert_exporter": "python",
   "pygments_lexer": "ipython3",
   "version": "3.11.9"
  }
 },
 "nbformat": 4,
 "nbformat_minor": 5
}
